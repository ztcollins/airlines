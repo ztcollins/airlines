{
 "cells": [
  {
   "cell_type": "markdown",
   "id": "f6332864-d921-4214-bd78-860a55472767",
   "metadata": {
    "jp-MarkdownHeadingCollapsed": true,
    "tags": []
   },
   "source": [
    "CS524: Introduction to Optimization Project Final Report\n",
    "======================================\n",
    "\n",
    "## Zachary Collins<br> University of Wisconsin-Madison \n",
    "\n",
    "## December 21, 2023\n",
    "--------------\n",
    "<br>"
   ]
  },
  {
   "cell_type": "markdown",
   "id": "c1cf1793-6d0b-4fb8-a5fb-2e9100f99854",
   "metadata": {
    "tags": []
   },
   "source": [
    "# Introduction to the Airline Service Ratings\n",
    "\n",
    "<br>"
   ]
  },
  {
   "cell_type": "markdown",
   "id": "d3861b2d-fa5a-47a1-a816-008aecbd1bc1",
   "metadata": {},
   "source": [
    "## What is the issue being addressed?\n",
    "\n",
    "There are many airlines that can be taken and many people have opinions on which has the best service. I aim to find out which airline has the best amenities, service, and whether flyers have biases about companies that influence their ratings. I based this problem off the support vectors problem in question 1 of homework 9, but made large changes in the data being evaluating through regression. I wanted to make sure I am using real life data to compare all the airlines and amenities.\n"
   ]
  },
  {
   "cell_type": "markdown",
   "id": "f37ca48b-4422-437e-8759-87862bc7f587",
   "metadata": {},
   "source": [
    "## Where does the data come fram and how is it obtained?\n",
    "\n",
    "I will be using data from Skytrax that github user Juhibojani compiled using data scraping of Skytrax’s reviews. These reviews are moderated by the website to make sure they only contain only relevant information and aren’t harassing the airline with the review.\n",
    "\n",
    "found here: https://github.com/Juhibhojani/Airline-Reviews-"
   ]
  },
  {
   "cell_type": "markdown",
   "id": "d5e735b3-4631-45ec-a7e3-4747d75d7cb4",
   "metadata": {},
   "source": [
    "## What is the optimization problem underlying this project?\n",
    "\n",
    "The optimization of this problem will be based similar to the support vectors problem in question 1 of homework 9 which is a classification problem. I plan on performing this problem multiple times by using three different datasets that will include different factors that influence the 'overall_rating' and 'recommended'. I will perform the first only using the amenities on the ship as influence for 'overall_rating' and 'recommended'. I will then perform the second using only company name as the influence for 'overall_rating' and 'recommended'. Then I will perform the last using both the company name and ship amenities.\n"
   ]
  },
  {
   "cell_type": "markdown",
   "id": "ea42f7a8-b4ef-4acd-8db9-1417e316ab6f",
   "metadata": {},
   "source": [
    "## What are the deliverables?\n",
    "\n",
    "- Import the data into GAMS\n",
    "- Format the data for ease of use in GAMS\n",
    "- Perform the first optimization, record the results/error\n",
    "- Perform the second optimization, record the results/error\n",
    "- Perform the final optimization, record the results/error\n",
    "- Display the amenities from least to most influential visually.\n",
    "- Display the airlines from least to most influential visually.\n",
    "- Display the airlines from least to most influential visually.\n",
    "- Final comparison / conclusion on results"
   ]
  },
  {
   "cell_type": "markdown",
   "id": "a0132fed-431f-46e8-94e3-305b2213dbd5",
   "metadata": {},
   "source": [
    "## Other points\n",
    "\n",
    "The data that is scraped from the Github is consistently updated."
   ]
  },
  {
   "cell_type": "code",
   "execution_count": null,
   "id": "fa718d62-e1b5-448a-af38-0e93b91eee21",
   "metadata": {},
   "outputs": [],
   "source": []
  }
 ],
 "metadata": {
  "kernelspec": {
   "display_name": "Python 3 (ipykernel)",
   "language": "python",
   "name": "python3"
  },
  "language_info": {
   "codemirror_mode": {
    "name": "ipython",
    "version": 3
   },
   "file_extension": ".py",
   "mimetype": "text/x-python",
   "name": "python",
   "nbconvert_exporter": "python",
   "pygments_lexer": "ipython3",
   "version": "3.11.5"
  }
 },
 "nbformat": 4,
 "nbformat_minor": 5
}
