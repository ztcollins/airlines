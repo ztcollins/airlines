{
 "cells": [
  {
   "cell_type": "markdown",
   "id": "f6332864-d921-4214-bd78-860a55472767",
   "metadata": {
    "tags": []
   },
   "source": [
    "CS524: Introduction to Optimization Project Final Report\n",
    "======================================\n",
    "\n",
    "## Zachary Collins<br> University of Wisconsin-Madison \n",
    "\n",
    "## December 21, 2023\n",
    "--------------\n",
    "<br>"
   ]
  },
  {
   "cell_type": "markdown",
   "id": "c1cf1793-6d0b-4fb8-a5fb-2e9100f99854",
   "metadata": {},
   "source": [
    "# Introduction to the Airline Service Comparisons\n",
    "\n",
    "<br>"
   ]
  },
  {
   "cell_type": "markdown",
   "id": "d3861b2d-fa5a-47a1-a816-008aecbd1bc1",
   "metadata": {},
   "source": [
    "## What is the issue being addressed?\n",
    "\n",
    "There are many airlines that can be taken and many people have opinions on which has the best service. I aim to look at the average of the data and find out which airline has the best amenities, service, and whether flyers often return to that airline service. I based this problem off the airline problem in question 3 of homework 4, but made large changes in problem structure. I also wanted to make sure I am using real life data to compare all the airlines.\n"
   ]
  },
  {
   "cell_type": "markdown",
   "id": "f37ca48b-4422-437e-8759-87862bc7f587",
   "metadata": {},
   "source": [
    "## Where does the data come fram and how is it obtained?\n",
    "\n",
    "I will be using data from Skytrax that github user Juhibojani compiled using data scraping of Skytrax’s reviews. These reviews are moderated by the website to make sure they only contain only relevant information and aren’t harassing the airline with the review.\n"
   ]
  },
  {
   "cell_type": "markdown",
   "id": "d5e735b3-4631-45ec-a7e3-4747d75d7cb4",
   "metadata": {},
   "source": [
    "## What is the optimization problem underlying this project?\n",
    "\n",
    "The optimization of this problem will be based on creating a parameter equation that assigns each airline a “total value” score and maximizing it. This score will be based on several factors that will positively or negatively affect the parameter equation. I don't think there is an objective way to do this, but it would essentially be using an equation of the user reviews (+/- points if verified user), different amenities (+/- points if airline doesn't have wifi for example), what type of people ride the plane (+/- points if more business people), etc.\n"
   ]
  },
  {
   "cell_type": "markdown",
   "id": "ea42f7a8-b4ef-4acd-8db9-1417e316ab6f",
   "metadata": {},
   "source": [
    "## What are the deliverables?\n",
    "\n",
    "- Create my own point system for determining the best airline for myself. Also create separate point systems that would represent other people’s preferences.\n",
    "- Formulate data into Gams and assign each data column to an arbitrary scalar that represents the points assigned.\n",
    "- Formulate the parameter score to be completely modular such that separate point systems can be used.\n",
    "- Maximize for total score on multiple different point systems.\n",
    "- Display the airlines from best to worst visually based on different scoring systems.\n"
   ]
  },
  {
   "cell_type": "markdown",
   "id": "a0132fed-431f-46e8-94e3-305b2213dbd5",
   "metadata": {},
   "source": [
    "## Other points\n",
    "\n",
    "Scoring systems could either be determined arbitrarily, collected from friends, or be based on different things customers may prefer. I’m most concerned with figuring out how to better score to match the average person."
   ]
  },
  {
   "cell_type": "code",
   "execution_count": null,
   "id": "fa718d62-e1b5-448a-af38-0e93b91eee21",
   "metadata": {},
   "outputs": [],
   "source": []
  }
 ],
 "metadata": {
  "kernelspec": {
   "display_name": "Python 3 (ipykernel)",
   "language": "python",
   "name": "python3"
  },
  "language_info": {
   "codemirror_mode": {
    "name": "ipython",
    "version": 3
   },
   "file_extension": ".py",
   "mimetype": "text/x-python",
   "name": "python",
   "nbconvert_exporter": "python",
   "pygments_lexer": "ipython3",
   "version": "3.11.5"
  }
 },
 "nbformat": 4,
 "nbformat_minor": 5
}
